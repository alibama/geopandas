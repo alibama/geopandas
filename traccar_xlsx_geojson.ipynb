{
  "nbformat": 4,
  "nbformat_minor": 0,
  "metadata": {
    "colab": {
      "name": "traccar-xlsx-geojson.ipynb",
      "provenance": []
    },
    "kernelspec": {
      "name": "python3",
      "display_name": "Python 3"
    }
  },
  "cells": [
    {
      "cell_type": "code",
      "metadata": {
        "id": "tGk2xkA9vI3B",
        "colab_type": "code",
        "colab": {
          "base_uri": "https://localhost:8080/",
          "height": 136
        },
        "outputId": "df06681e-c329-4edc-ec58-74af0dd0ebb4"
      },
      "source": [
        "import pandas as pd, requests, json\n",
        "from google.colab import files\n",
        "#uploaded = files.upload()\n",
        "df = pd.read_excel(r'/content/test.xlsx')\n",
        "#trim the first six rows since they have report information\n",
        "df = df.drop(df.index[0:6])\n",
        "\n",
        "df.columns = df.iloc[0]\n",
        "df = df.drop(df.index[0])\n",
        "\n",
        "#the rest of this comes from here\n",
        "#https://github.com/gboeing/urban-data-science/blob/master/17-Leaflet-Web-Mapping/leaflet-simple-demo/pandas-to-geojson.ipynb\n",
        "\n",
        "df['Latitude'] = df['Latitude'].astype(float)\n",
        "df['Longitude'] = df['Longitude'].astype(float)\n",
        "\n",
        "# we don't need all those columns - only keep useful ones\n",
        "useful_cols = ['Longitude', 'Latitude', 'Altitude', 'Speed', 'Time', 'Attributes']\n",
        "df_subset = df[useful_cols]\n",
        "\n",
        "def df_to_geojson(df, properties, lat='Latitude', lon='Longitude', alt='Altitude'):\n",
        "    \"\"\"\n",
        "    Turn a dataframe containing point data into a geojson formatted python dictionary\n",
        "    \n",
        "    df : the dataframe to convert to geojson\n",
        "    properties : a list of columns in the dataframe to turn into geojson feature properties\n",
        "    lat : the name of the column in the dataframe that contains latitude data\n",
        "    lon : the name of the column in the dataframe that contains longitude data\n",
        "    \"\"\"\n",
        "    \n",
        "    # create a new python dict to contain our geojson data, using geojson format\n",
        "    geojson = {'type':'FeatureCollection', 'features':[]}\n",
        "\n",
        "    # loop through each row in the dataframe and convert each row to geojson format\n",
        "    for _, row in df.iterrows():\n",
        "        # create a feature template to fill in\n",
        "        feature = {'type':'Feature',\n",
        "                   'properties':{},\n",
        "                   'geometry':{'type':'Point',\n",
        "                               'coordinates':[]}}\n",
        "\n",
        "        # fill in the coordinates\n",
        "        feature['geometry']['coordinates'] = [row[lon],row[lat],row[alt]]\n",
        "\n",
        "        # for each column, get the value and add it as a new feature property\n",
        "        for prop in properties:\n",
        "            feature['properties'][prop] = row[prop]\n",
        "        \n",
        "        # add this feature (aka, converted dataframe row) to the list of features inside our dict\n",
        "        geojson['features'].append(feature)\n",
        "    \n",
        "    return geojson\n",
        "\n",
        "geojson_dict = df_to_geojson(df, properties=useful_cols)\n",
        "geojson_str = json.dumps(geojson_dict, indent=2)\n",
        "\n",
        "# save the geojson result to a file\n",
        "output_filename = 'data.geojson'\n",
        "with open(output_filename, 'w') as output_file:\n",
        "    output_file.write('{}'.format(geojson_str))\n",
        "    \n",
        "# how many features did we save to the geojson file?\n",
        "print('{} geotagged features saved to file'.format(len(geojson_dict['features'])))"
      ],
      "execution_count": 55,
      "outputs": [
        {
          "output_type": "stream",
          "text": [
            "Longitude\n",
            "Latitude\n",
            "Altitude\n",
            "Speed\n",
            "Time\n",
            "Attributes\n",
            "3861 geotagged features saved to file\n"
          ],
          "name": "stdout"
        }
      ]
    }
  ]
}